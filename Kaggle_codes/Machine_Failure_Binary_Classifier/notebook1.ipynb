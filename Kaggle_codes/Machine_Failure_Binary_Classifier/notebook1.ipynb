{
 "cells": [
  {
   "cell_type": "code",
   "execution_count": 1,
   "id": "8fb9d30e",
   "metadata": {
    "_cell_guid": "b1076dfc-b9ad-4769-8c92-a6c4dae69d19",
    "_uuid": "8f2839f25d086af736a60e9eeb907d3b93b6e0e5",
    "execution": {
     "iopub.execute_input": "2023-08-21T08:02:44.282248Z",
     "iopub.status.busy": "2023-08-21T08:02:44.281722Z",
     "iopub.status.idle": "2023-08-21T08:02:44.297922Z",
     "shell.execute_reply": "2023-08-21T08:02:44.297165Z"
    },
    "papermill": {
     "duration": 0.02964,
     "end_time": "2023-08-21T08:02:44.300101",
     "exception": false,
     "start_time": "2023-08-21T08:02:44.270461",
     "status": "completed"
    },
    "tags": []
   },
   "outputs": [
    {
     "name": "stdout",
     "output_type": "stream",
     "text": [
      "/kaggle/input/playground-series-s3e17/sample_submission.csv\n",
      "/kaggle/input/playground-series-s3e17/train.csv\n",
      "/kaggle/input/playground-series-s3e17/test.csv\n"
     ]
    }
   ],
   "source": [
    "# This Python 3 environment comes with many helpful analytics libraries installed\n",
    "# It is defined by the kaggle/python Docker image: https://github.com/kaggle/docker-python\n",
    "# For example, here's several helpful packages to load\n",
    "\n",
    "import numpy as np # linear algebra\n",
    "import pandas as pd # data processing, CSV file I/O (e.g. pd.read_csv)\n",
    "\n",
    "# Input data files are available in the read-only \"../input/\" directory\n",
    "# For example, running this (by clicking run or pressing Shift+Enter) will list all files under the input directory\n",
    "\n",
    "import os\n",
    "for dirname, _, filenames in os.walk('/kaggle/input'):\n",
    "    for filename in filenames:\n",
    "        print(os.path.join(dirname, filename))\n",
    "\n",
    "# You can write up to 20GB to the current directory (/kaggle/working/) that gets preserved as output when you create a version using \"Save & Run All\" \n",
    "# You can also write temporary files to /kaggle/temp/, but they won't be saved outside of the current session"
   ]
  },
  {
   "cell_type": "code",
   "execution_count": 2,
   "id": "3c9a2d75",
   "metadata": {
    "execution": {
     "iopub.execute_input": "2023-08-21T08:02:44.320418Z",
     "iopub.status.busy": "2023-08-21T08:02:44.319699Z",
     "iopub.status.idle": "2023-08-21T08:02:44.835726Z",
     "shell.execute_reply": "2023-08-21T08:02:44.834854Z"
    },
    "papermill": {
     "duration": 0.528938,
     "end_time": "2023-08-21T08:02:44.838373",
     "exception": false,
     "start_time": "2023-08-21T08:02:44.309435",
     "status": "completed"
    },
    "tags": []
   },
   "outputs": [],
   "source": [
    "train = pd.read_csv('/kaggle/input/playground-series-s3e17/train.csv')\n",
    "test = pd.read_csv('/kaggle/input/playground-series-s3e17/test.csv')"
   ]
  },
  {
   "cell_type": "code",
   "execution_count": 3,
   "id": "3f1f460a",
   "metadata": {
    "execution": {
     "iopub.execute_input": "2023-08-21T08:02:44.859294Z",
     "iopub.status.busy": "2023-08-21T08:02:44.858101Z",
     "iopub.status.idle": "2023-08-21T08:02:44.866650Z",
     "shell.execute_reply": "2023-08-21T08:02:44.865563Z"
    },
    "papermill": {
     "duration": 0.021556,
     "end_time": "2023-08-21T08:02:44.868982",
     "exception": false,
     "start_time": "2023-08-21T08:02:44.847426",
     "status": "completed"
    },
    "tags": []
   },
   "outputs": [
    {
     "data": {
      "text/plain": [
       "Index(['id', 'Product ID', 'Type', 'Air temperature [K]',\n",
       "       'Process temperature [K]', 'Rotational speed [rpm]', 'Torque [Nm]',\n",
       "       'Tool wear [min]', 'Machine failure', 'TWF', 'HDF', 'PWF', 'OSF',\n",
       "       'RNF'],\n",
       "      dtype='object')"
      ]
     },
     "execution_count": 3,
     "metadata": {},
     "output_type": "execute_result"
    }
   ],
   "source": [
    "train.columns"
   ]
  },
  {
   "cell_type": "code",
   "execution_count": null,
   "id": "e0dddabb",
   "metadata": {
    "papermill": {
     "duration": 0.010388,
     "end_time": "2023-08-21T08:02:44.888482",
     "exception": false,
     "start_time": "2023-08-21T08:02:44.878094",
     "status": "completed"
    },
    "tags": []
   },
   "outputs": [],
   "source": []
  },
  {
   "cell_type": "code",
   "execution_count": 4,
   "id": "fb2a6e72",
   "metadata": {
    "execution": {
     "iopub.execute_input": "2023-08-21T08:02:44.908748Z",
     "iopub.status.busy": "2023-08-21T08:02:44.907952Z",
     "iopub.status.idle": "2023-08-21T08:02:46.275841Z",
     "shell.execute_reply": "2023-08-21T08:02:46.274657Z"
    },
    "papermill": {
     "duration": 1.380619,
     "end_time": "2023-08-21T08:02:46.278172",
     "exception": false,
     "start_time": "2023-08-21T08:02:44.897553",
     "status": "completed"
    },
    "tags": []
   },
   "outputs": [
    {
     "name": "stderr",
     "output_type": "stream",
     "text": [
      "/opt/conda/lib/python3.10/site-packages/scipy/__init__.py:146: UserWarning: A NumPy version >=1.16.5 and <1.23.0 is required for this version of SciPy (detected version 1.23.5\n",
      "  warnings.warn(f\"A NumPy version >={np_minversion} and <{np_maxversion}\"\n",
      "/tmp/ipykernel_20/3225634449.py:3: FutureWarning: The default value of numeric_only in DataFrame.corr is deprecated. In a future version, it will default to False. Select only valid columns or specify the value of numeric_only to silence this warning.\n",
      "  corr_value = train.corr()\n"
     ]
    },
    {
     "data": {
      "text/html": [
       "<div>\n",
       "<style scoped>\n",
       "    .dataframe tbody tr th:only-of-type {\n",
       "        vertical-align: middle;\n",
       "    }\n",
       "\n",
       "    .dataframe tbody tr th {\n",
       "        vertical-align: top;\n",
       "    }\n",
       "\n",
       "    .dataframe thead th {\n",
       "        text-align: right;\n",
       "    }\n",
       "</style>\n",
       "<table border=\"1\" class=\"dataframe\">\n",
       "  <thead>\n",
       "    <tr style=\"text-align: right;\">\n",
       "      <th></th>\n",
       "      <th>id</th>\n",
       "      <th>Air temperature [K]</th>\n",
       "      <th>Process temperature [K]</th>\n",
       "      <th>Rotational speed [rpm]</th>\n",
       "      <th>Torque [Nm]</th>\n",
       "      <th>Tool wear [min]</th>\n",
       "      <th>Machine failure</th>\n",
       "      <th>TWF</th>\n",
       "      <th>HDF</th>\n",
       "      <th>PWF</th>\n",
       "      <th>OSF</th>\n",
       "      <th>RNF</th>\n",
       "    </tr>\n",
       "  </thead>\n",
       "  <tbody>\n",
       "    <tr>\n",
       "      <th>id</th>\n",
       "      <td>1.000000</td>\n",
       "      <td>-0.005338</td>\n",
       "      <td>-0.002396</td>\n",
       "      <td>0.004419</td>\n",
       "      <td>-0.001968</td>\n",
       "      <td>-0.001790</td>\n",
       "      <td>0.001500</td>\n",
       "      <td>-0.000475</td>\n",
       "      <td>-0.000680</td>\n",
       "      <td>0.003275</td>\n",
       "      <td>0.002114</td>\n",
       "      <td>0.000175</td>\n",
       "    </tr>\n",
       "    <tr>\n",
       "      <th>Air temperature [K]</th>\n",
       "      <td>-0.005338</td>\n",
       "      <td>1.000000</td>\n",
       "      <td>0.856080</td>\n",
       "      <td>0.016545</td>\n",
       "      <td>-0.006773</td>\n",
       "      <td>0.016994</td>\n",
       "      <td>0.067744</td>\n",
       "      <td>0.003826</td>\n",
       "      <td>0.100454</td>\n",
       "      <td>0.007967</td>\n",
       "      <td>0.007842</td>\n",
       "      <td>0.004815</td>\n",
       "    </tr>\n",
       "    <tr>\n",
       "      <th>Process temperature [K]</th>\n",
       "      <td>-0.002396</td>\n",
       "      <td>0.856080</td>\n",
       "      <td>1.000000</td>\n",
       "      <td>0.011263</td>\n",
       "      <td>-0.006298</td>\n",
       "      <td>0.012777</td>\n",
       "      <td>0.030966</td>\n",
       "      <td>0.004459</td>\n",
       "      <td>0.041454</td>\n",
       "      <td>0.003871</td>\n",
       "      <td>0.005337</td>\n",
       "      <td>0.004399</td>\n",
       "    </tr>\n",
       "    <tr>\n",
       "      <th>Rotational speed [rpm]</th>\n",
       "      <td>0.004419</td>\n",
       "      <td>0.016545</td>\n",
       "      <td>0.011263</td>\n",
       "      <td>1.000000</td>\n",
       "      <td>-0.779394</td>\n",
       "      <td>0.003983</td>\n",
       "      <td>-0.060868</td>\n",
       "      <td>-0.005765</td>\n",
       "      <td>-0.081996</td>\n",
       "      <td>0.053948</td>\n",
       "      <td>-0.061376</td>\n",
       "      <td>-0.003410</td>\n",
       "    </tr>\n",
       "    <tr>\n",
       "      <th>Torque [Nm]</th>\n",
       "      <td>-0.001968</td>\n",
       "      <td>-0.006773</td>\n",
       "      <td>-0.006298</td>\n",
       "      <td>-0.779394</td>\n",
       "      <td>1.000000</td>\n",
       "      <td>-0.003148</td>\n",
       "      <td>0.145793</td>\n",
       "      <td>0.012983</td>\n",
       "      <td>0.100773</td>\n",
       "      <td>0.050289</td>\n",
       "      <td>0.108765</td>\n",
       "      <td>0.007986</td>\n",
       "    </tr>\n",
       "    <tr>\n",
       "      <th>Tool wear [min]</th>\n",
       "      <td>-0.001790</td>\n",
       "      <td>0.016994</td>\n",
       "      <td>0.012777</td>\n",
       "      <td>0.003983</td>\n",
       "      <td>-0.003148</td>\n",
       "      <td>1.000000</td>\n",
       "      <td>0.056448</td>\n",
       "      <td>0.046470</td>\n",
       "      <td>0.011709</td>\n",
       "      <td>0.007624</td>\n",
       "      <td>0.063604</td>\n",
       "      <td>-0.002071</td>\n",
       "    </tr>\n",
       "    <tr>\n",
       "      <th>Machine failure</th>\n",
       "      <td>0.001500</td>\n",
       "      <td>0.067744</td>\n",
       "      <td>0.030966</td>\n",
       "      <td>-0.060868</td>\n",
       "      <td>0.145793</td>\n",
       "      <td>0.056448</td>\n",
       "      <td>1.000000</td>\n",
       "      <td>0.311919</td>\n",
       "      <td>0.564507</td>\n",
       "      <td>0.383941</td>\n",
       "      <td>0.494668</td>\n",
       "      <td>0.001428</td>\n",
       "    </tr>\n",
       "    <tr>\n",
       "      <th>TWF</th>\n",
       "      <td>-0.000475</td>\n",
       "      <td>0.003826</td>\n",
       "      <td>0.004459</td>\n",
       "      <td>-0.005765</td>\n",
       "      <td>0.012983</td>\n",
       "      <td>0.046470</td>\n",
       "      <td>0.311919</td>\n",
       "      <td>1.000000</td>\n",
       "      <td>0.010145</td>\n",
       "      <td>0.039927</td>\n",
       "      <td>0.036041</td>\n",
       "      <td>0.002044</td>\n",
       "    </tr>\n",
       "    <tr>\n",
       "      <th>HDF</th>\n",
       "      <td>-0.000680</td>\n",
       "      <td>0.100454</td>\n",
       "      <td>0.041454</td>\n",
       "      <td>-0.081996</td>\n",
       "      <td>0.100773</td>\n",
       "      <td>0.011709</td>\n",
       "      <td>0.564507</td>\n",
       "      <td>0.010145</td>\n",
       "      <td>1.000000</td>\n",
       "      <td>0.046680</td>\n",
       "      <td>0.067149</td>\n",
       "      <td>0.000885</td>\n",
       "    </tr>\n",
       "    <tr>\n",
       "      <th>PWF</th>\n",
       "      <td>0.003275</td>\n",
       "      <td>0.007967</td>\n",
       "      <td>0.003871</td>\n",
       "      <td>0.053948</td>\n",
       "      <td>0.050289</td>\n",
       "      <td>0.007624</td>\n",
       "      <td>0.383941</td>\n",
       "      <td>0.039927</td>\n",
       "      <td>0.046680</td>\n",
       "      <td>1.000000</td>\n",
       "      <td>0.090016</td>\n",
       "      <td>0.000827</td>\n",
       "    </tr>\n",
       "    <tr>\n",
       "      <th>OSF</th>\n",
       "      <td>0.002114</td>\n",
       "      <td>0.007842</td>\n",
       "      <td>0.005337</td>\n",
       "      <td>-0.061376</td>\n",
       "      <td>0.108765</td>\n",
       "      <td>0.063604</td>\n",
       "      <td>0.494668</td>\n",
       "      <td>0.036041</td>\n",
       "      <td>0.067149</td>\n",
       "      <td>0.090016</td>\n",
       "      <td>1.000000</td>\n",
       "      <td>-0.000539</td>\n",
       "    </tr>\n",
       "    <tr>\n",
       "      <th>RNF</th>\n",
       "      <td>0.000175</td>\n",
       "      <td>0.004815</td>\n",
       "      <td>0.004399</td>\n",
       "      <td>-0.003410</td>\n",
       "      <td>0.007986</td>\n",
       "      <td>-0.002071</td>\n",
       "      <td>0.001428</td>\n",
       "      <td>0.002044</td>\n",
       "      <td>0.000885</td>\n",
       "      <td>0.000827</td>\n",
       "      <td>-0.000539</td>\n",
       "      <td>1.000000</td>\n",
       "    </tr>\n",
       "  </tbody>\n",
       "</table>\n",
       "</div>"
      ],
      "text/plain": [
       "                               id  Air temperature [K]  \\\n",
       "id                       1.000000            -0.005338   \n",
       "Air temperature [K]     -0.005338             1.000000   \n",
       "Process temperature [K] -0.002396             0.856080   \n",
       "Rotational speed [rpm]   0.004419             0.016545   \n",
       "Torque [Nm]             -0.001968            -0.006773   \n",
       "Tool wear [min]         -0.001790             0.016994   \n",
       "Machine failure          0.001500             0.067744   \n",
       "TWF                     -0.000475             0.003826   \n",
       "HDF                     -0.000680             0.100454   \n",
       "PWF                      0.003275             0.007967   \n",
       "OSF                      0.002114             0.007842   \n",
       "RNF                      0.000175             0.004815   \n",
       "\n",
       "                         Process temperature [K]  Rotational speed [rpm]  \\\n",
       "id                                     -0.002396                0.004419   \n",
       "Air temperature [K]                     0.856080                0.016545   \n",
       "Process temperature [K]                 1.000000                0.011263   \n",
       "Rotational speed [rpm]                  0.011263                1.000000   \n",
       "Torque [Nm]                            -0.006298               -0.779394   \n",
       "Tool wear [min]                         0.012777                0.003983   \n",
       "Machine failure                         0.030966               -0.060868   \n",
       "TWF                                     0.004459               -0.005765   \n",
       "HDF                                     0.041454               -0.081996   \n",
       "PWF                                     0.003871                0.053948   \n",
       "OSF                                     0.005337               -0.061376   \n",
       "RNF                                     0.004399               -0.003410   \n",
       "\n",
       "                         Torque [Nm]  Tool wear [min]  Machine failure  \\\n",
       "id                         -0.001968        -0.001790         0.001500   \n",
       "Air temperature [K]        -0.006773         0.016994         0.067744   \n",
       "Process temperature [K]    -0.006298         0.012777         0.030966   \n",
       "Rotational speed [rpm]     -0.779394         0.003983        -0.060868   \n",
       "Torque [Nm]                 1.000000        -0.003148         0.145793   \n",
       "Tool wear [min]            -0.003148         1.000000         0.056448   \n",
       "Machine failure             0.145793         0.056448         1.000000   \n",
       "TWF                         0.012983         0.046470         0.311919   \n",
       "HDF                         0.100773         0.011709         0.564507   \n",
       "PWF                         0.050289         0.007624         0.383941   \n",
       "OSF                         0.108765         0.063604         0.494668   \n",
       "RNF                         0.007986        -0.002071         0.001428   \n",
       "\n",
       "                              TWF       HDF       PWF       OSF       RNF  \n",
       "id                      -0.000475 -0.000680  0.003275  0.002114  0.000175  \n",
       "Air temperature [K]      0.003826  0.100454  0.007967  0.007842  0.004815  \n",
       "Process temperature [K]  0.004459  0.041454  0.003871  0.005337  0.004399  \n",
       "Rotational speed [rpm]  -0.005765 -0.081996  0.053948 -0.061376 -0.003410  \n",
       "Torque [Nm]              0.012983  0.100773  0.050289  0.108765  0.007986  \n",
       "Tool wear [min]          0.046470  0.011709  0.007624  0.063604 -0.002071  \n",
       "Machine failure          0.311919  0.564507  0.383941  0.494668  0.001428  \n",
       "TWF                      1.000000  0.010145  0.039927  0.036041  0.002044  \n",
       "HDF                      0.010145  1.000000  0.046680  0.067149  0.000885  \n",
       "PWF                      0.039927  0.046680  1.000000  0.090016  0.000827  \n",
       "OSF                      0.036041  0.067149  0.090016  1.000000 -0.000539  \n",
       "RNF                      0.002044  0.000885  0.000827 -0.000539  1.000000  "
      ]
     },
     "execution_count": 4,
     "metadata": {},
     "output_type": "execute_result"
    }
   ],
   "source": [
    "### CHoosing the Top 10 Features based on the co-relation with the depende\n",
    "from statsmodels.stats.outliers_influence import variance_inflation_factor\n",
    "corr_value = train.corr()\n",
    "corr_value"
   ]
  },
  {
   "cell_type": "code",
   "execution_count": 5,
   "id": "47bf41b9",
   "metadata": {
    "execution": {
     "iopub.execute_input": "2023-08-21T08:02:46.300995Z",
     "iopub.status.busy": "2023-08-21T08:02:46.300544Z",
     "iopub.status.idle": "2023-08-21T08:02:46.308238Z",
     "shell.execute_reply": "2023-08-21T08:02:46.306969Z"
    },
    "papermill": {
     "duration": 0.021554,
     "end_time": "2023-08-21T08:02:46.310457",
     "exception": false,
     "start_time": "2023-08-21T08:02:46.288903",
     "status": "completed"
    },
    "tags": []
   },
   "outputs": [
    {
     "data": {
      "text/plain": [
       "Index(['id', 'Product ID', 'Type', 'Air temperature [K]',\n",
       "       'Process temperature [K]', 'Rotational speed [rpm]', 'Torque [Nm]',\n",
       "       'Tool wear [min]', 'Machine failure', 'TWF', 'HDF', 'PWF', 'OSF',\n",
       "       'RNF'],\n",
       "      dtype='object')"
      ]
     },
     "execution_count": 5,
     "metadata": {},
     "output_type": "execute_result"
    }
   ],
   "source": [
    "train.columns"
   ]
  },
  {
   "cell_type": "code",
   "execution_count": 6,
   "id": "9ef93863",
   "metadata": {
    "execution": {
     "iopub.execute_input": "2023-08-21T08:02:46.333306Z",
     "iopub.status.busy": "2023-08-21T08:02:46.332600Z",
     "iopub.status.idle": "2023-08-21T08:02:46.339887Z",
     "shell.execute_reply": "2023-08-21T08:02:46.338490Z"
    },
    "papermill": {
     "duration": 0.021305,
     "end_time": "2023-08-21T08:02:46.342109",
     "exception": false,
     "start_time": "2023-08-21T08:02:46.320804",
     "status": "completed"
    },
    "tags": []
   },
   "outputs": [
    {
     "data": {
      "text/plain": [
       "Index(['id', 'Product ID', 'Type', 'Air temperature [K]',\n",
       "       'Process temperature [K]', 'Rotational speed [rpm]', 'Torque [Nm]',\n",
       "       'Tool wear [min]', 'TWF', 'HDF', 'PWF', 'OSF', 'RNF'],\n",
       "      dtype='object')"
      ]
     },
     "execution_count": 6,
     "metadata": {},
     "output_type": "execute_result"
    }
   ],
   "source": [
    "test.columns"
   ]
  },
  {
   "cell_type": "code",
   "execution_count": 7,
   "id": "049dd812",
   "metadata": {
    "execution": {
     "iopub.execute_input": "2023-08-21T08:02:46.364545Z",
     "iopub.status.busy": "2023-08-21T08:02:46.364097Z",
     "iopub.status.idle": "2023-08-21T08:02:48.745585Z",
     "shell.execute_reply": "2023-08-21T08:02:48.744452Z"
    },
    "papermill": {
     "duration": 2.395961,
     "end_time": "2023-08-21T08:02:48.748415",
     "exception": false,
     "start_time": "2023-08-21T08:02:46.352454",
     "status": "completed"
    },
    "tags": []
   },
   "outputs": [
    {
     "name": "stdout",
     "output_type": "stream",
     "text": [
      "                   feature           VIF\n",
      "0                      TWF      1.004317\n",
      "1                      HDF      1.038500\n",
      "2                      PWF      1.015045\n",
      "3                      OSF      1.027343\n",
      "4              Torque [Nm]     24.043146\n",
      "5      Air temperature [K]  92404.788133\n",
      "6  Process temperature [K]  92489.291817\n",
      "7                      RNF      1.002343\n",
      "Accuracy: 0.9962374786220376\n",
      "[[20136    73]\n",
      " [    4   252]]\n"
     ]
    },
    {
     "data": {
      "image/png": "[encoded data removed]",
      "text/plain": [
       "<Figure size 480x480 with 2 Axes>"
      ]
     },
     "metadata": {},
     "output_type": "display_data"
    }
   ],
   "source": [
    "from sklearn.tree import DecisionTreeClassifier\n",
    "from sklearn.model_selection import train_test_split \n",
    "from sklearn import metrics\n",
    "import matplotlib.pyplot as plt\n",
    "df = train[['TWF','HDF','PWF','OSF','Torque [Nm]',\n",
    "            'Air temperature [K]','Process temperature [K]','RNF']]\n",
    "#x1 = x1.values\n",
    "#print(x1)\n",
    "\n",
    "# VIF dataframe\n",
    "vif_data = pd.DataFrame()\n",
    "vif_data[\"feature\"] = df.columns\n",
    "  \n",
    "# calculating VIF for each feature\n",
    "vif_data[\"VIF\"] = [variance_inflation_factor(df.values, i)\n",
    "                          for i in range(len(df.columns))]\n",
    "print(vif_data) \n",
    "\n",
    "x1 = train[['TWF','HDF','PWF','OSF','Torque [Nm]',\n",
    "            'Air temperature [K]','Process temperature [K]','RNF']]\n",
    "y1 = train[['Machine failure']]\n",
    "\n",
    "X_TEST = test[['TWF','HDF','PWF','OSF','Torque [Nm]',\n",
    "            'Air temperature [K]','Process temperature [K]','RNF']]\n",
    "\n",
    "X_train, X_test, y_train, y_test = train_test_split(x1, y1, test_size=0.15, random_state=1)\n",
    "\n",
    "clf = DecisionTreeClassifier(max_depth=None, max_leaf_nodes=10)\n",
    "clf.fit(X_train,y_train)\n",
    "y_pred = clf.predict(X_test)\n",
    "\n",
    "print(\"Accuracy:\",metrics.accuracy_score(y_test, y_pred))\n",
    "from sklearn.metrics import confusion_matrix\n",
    "cm = confusion_matrix(y_pred,y_test)\n",
    "print(cm)\n",
    "plt.matshow(cm)\n",
    "plt.title('Confusion matrix')\n",
    "plt.colorbar()\n",
    "plt.ylabel('True label')\n",
    "plt.xlabel('Predicted label')\n",
    "plt.show()\n",
    "\n",
    "### predicitng actual values\n",
    "\n",
    "Y_PRED = clf.predict(X_TEST)\n",
    "\n",
    "submission = pd.DataFrame(Y_PRED)\n",
    "\n",
    "submission.head()\n",
    "\n",
    "submission.to_csv('/kaggle/working/submission.csv')\n",
    "\n",
    "\n",
    "\n"
   ]
  },
  {
   "cell_type": "code",
   "execution_count": 8,
   "id": "e90daa9c",
   "metadata": {
    "execution": {
     "iopub.execute_input": "2023-08-21T08:02:48.772914Z",
     "iopub.status.busy": "2023-08-21T08:02:48.771947Z",
     "iopub.status.idle": "2023-08-21T08:02:48.809165Z",
     "shell.execute_reply": "2023-08-21T08:02:48.807674Z"
    },
    "papermill": {
     "duration": 0.052374,
     "end_time": "2023-08-21T08:02:48.811851",
     "exception": false,
     "start_time": "2023-08-21T08:02:48.759477",
     "status": "completed"
    },
    "tags": []
   },
   "outputs": [
    {
     "data": {
      "text/plain": [
       "array([[-0.0395382 , -0.07138894, -0.04839841, ...,  1.31033138,\n",
       "         1.12628667, -0.04758611],\n",
       "       [-0.0395382 , -0.07138894, -0.04839841, ...,  0.98789252,\n",
       "         0.76528809, -0.04758611],\n",
       "       [-0.0395382 , -0.07138894, -0.04839841, ...,  0.77293329,\n",
       "         0.3320898 , -0.04758611],\n",
       "       ...,\n",
       "       [-0.0395382 , -0.07138894, -0.04839841, ..., -2.2902358 ,\n",
       "        -2.70029824, -0.04758611],\n",
       "       [-0.0395382 , -0.07138894, -0.04839841, ..., -0.94674059,\n",
       "        -1.54510279, -0.04758611],\n",
       "       [-0.0395382 , -0.07138894, -0.04839841, ...,  1.95520908,\n",
       "         2.06488297, -0.04758611]])"
      ]
     },
     "execution_count": 8,
     "metadata": {},
     "output_type": "execute_result"
    }
   ],
   "source": [
    "from sklearn.preprocessing import StandardScaler\n",
    "scaler = StandardScaler()\n",
    "\n",
    "X_train_scaled = scaler.fit_transform(X_train)\n",
    "X_test_scaled = scaler.transform(X_test)\n",
    "X_test_scaled_actual = scaler.transform(X_TEST)\n",
    "X_test_scaled_actual"
   ]
  },
  {
   "cell_type": "code",
   "execution_count": 9,
   "id": "b15cf37c",
   "metadata": {
    "execution": {
     "iopub.execute_input": "2023-08-21T08:02:48.835873Z",
     "iopub.status.busy": "2023-08-21T08:02:48.835458Z",
     "iopub.status.idle": "2023-08-21T08:02:58.070433Z",
     "shell.execute_reply": "2023-08-21T08:02:58.069372Z"
    },
    "papermill": {
     "duration": 9.250341,
     "end_time": "2023-08-21T08:02:58.073282",
     "exception": false,
     "start_time": "2023-08-21T08:02:48.822941",
     "status": "completed"
    },
    "tags": []
   },
   "outputs": [
    {
     "name": "stderr",
     "output_type": "stream",
     "text": [
      "/opt/conda/lib/python3.10/site-packages/tensorflow_io/python/ops/__init__.py:98: UserWarning: unable to load libtensorflow_io_plugins.so: unable to open file: libtensorflow_io_plugins.so, from paths: ['/opt/conda/lib/python3.10/site-packages/tensorflow_io/python/ops/libtensorflow_io_plugins.so']\n",
      "caused by: ['/opt/conda/lib/python3.10/site-packages/tensorflow_io/python/ops/libtensorflow_io_plugins.so: undefined symbol: _ZN3tsl6StatusC1EN10tensorflow5error4CodeESt17basic_string_viewIcSt11char_traitsIcEENS_14SourceLocationE']\n",
      "  warnings.warn(f\"unable to load libtensorflow_io_plugins.so: {e}\")\n",
      "/opt/conda/lib/python3.10/site-packages/tensorflow_io/python/ops/__init__.py:104: UserWarning: file system plugins are not loaded: unable to open file: libtensorflow_io.so, from paths: ['/opt/conda/lib/python3.10/site-packages/tensorflow_io/python/ops/libtensorflow_io.so']\n",
      "caused by: ['/opt/conda/lib/python3.10/site-packages/tensorflow_io/python/ops/libtensorflow_io.so: undefined symbol: _ZTVN10tensorflow13GcsFileSystemE']\n",
      "  warnings.warn(f\"file system plugins are not loaded: {e}\")\n"
     ]
    }
   ],
   "source": [
    "import tensorflow as tf\n",
    "tf.random.set_seed(42)\n",
    "model = tf.keras.Sequential([\n",
    "    tf.keras.layers.Dense(128, activation='relu'),\n",
    "    tf.keras.layers.Dense(256, activation='relu'),\n",
    "    tf.keras.layers.Dense(256, activation='relu'),\n",
    "    tf.keras.layers.Dense(1, activation='sigmoid')\n",
    "])\n",
    "\n",
    "model.compile(\n",
    "    loss=tf.keras.losses.binary_crossentropy,\n",
    "    optimizer=tf.keras.optimizers.Adam(lr=0.03),\n",
    "    metrics=[\n",
    "        tf.keras.metrics.BinaryAccuracy(name='accuracy'),\n",
    "        tf.keras.metrics.Precision(name='precision'),\n",
    "        tf.keras.metrics.Recall(name='recall')\n",
    "    ]\n",
    ")"
   ]
  },
  {
   "cell_type": "code",
   "execution_count": 10,
   "id": "fcd4566c",
   "metadata": {
    "execution": {
     "iopub.execute_input": "2023-08-21T08:02:58.097658Z",
     "iopub.status.busy": "2023-08-21T08:02:58.097261Z",
     "iopub.status.idle": "2023-08-21T08:22:21.555997Z",
     "shell.execute_reply": "2023-08-21T08:22:21.554789Z"
    },
    "papermill": {
     "duration": 1163.474142,
     "end_time": "2023-08-21T08:22:21.558776",
     "exception": false,
     "start_time": "2023-08-21T08:02:58.084634",
     "status": "completed"
    },
    "tags": []
   },
   "outputs": [
    {
     "name": "stdout",
     "output_type": "stream",
     "text": [
      "Epoch 1/100\n",
      "3624/3624 [==============================] - 12s 3ms/step - loss: 0.0280 - accuracy: 0.9957 - precision: 0.9683 - recall: 0.7532\n",
      "Epoch 2/100\n",
      "3624/3624 [==============================] - 11s 3ms/step - loss: 0.0238 - accuracy: 0.9961 - precision: 0.9928 - recall: 0.7603\n",
      "Epoch 3/100\n",
      "3624/3624 [==============================] - 11s 3ms/step - loss: 0.0235 - accuracy: 0.9962 - precision: 0.9936 - recall: 0.7614\n",
      "Epoch 4/100\n",
      "3624/3624 [==============================] - 11s 3ms/step - loss: 0.0233 - accuracy: 0.9962 - precision: 0.9928 - recall: 0.7614\n",
      "Epoch 5/100\n",
      "3624/3624 [==============================] - 11s 3ms/step - loss: 0.0234 - accuracy: 0.9961 - precision: 0.9907 - recall: 0.7592\n",
      "Epoch 6/100\n",
      "3624/3624 [==============================] - 11s 3ms/step - loss: 0.0232 - accuracy: 0.9962 - precision: 0.9921 - recall: 0.7614\n",
      "Epoch 7/100\n",
      "3624/3624 [==============================] - 11s 3ms/step - loss: 0.0233 - accuracy: 0.9962 - precision: 0.9936 - recall: 0.7614\n",
      "Epoch 8/100\n",
      "3624/3624 [==============================] - 11s 3ms/step - loss: 0.0229 - accuracy: 0.9962 - precision: 0.9936 - recall: 0.7619\n",
      "Epoch 9/100\n",
      "3624/3624 [==============================] - 11s 3ms/step - loss: 0.0229 - accuracy: 0.9962 - precision: 0.9921 - recall: 0.7619\n",
      "Epoch 10/100\n",
      "3624/3624 [==============================] - 11s 3ms/step - loss: 0.0232 - accuracy: 0.9962 - precision: 0.9936 - recall: 0.7608\n",
      "Epoch 11/100\n",
      "3624/3624 [==============================] - 11s 3ms/step - loss: 0.0229 - accuracy: 0.9962 - precision: 0.9921 - recall: 0.7619\n",
      "Epoch 12/100\n",
      "3624/3624 [==============================] - 11s 3ms/step - loss: 0.0229 - accuracy: 0.9962 - precision: 0.9936 - recall: 0.7614\n",
      "Epoch 13/100\n",
      "3624/3624 [==============================] - 11s 3ms/step - loss: 0.0231 - accuracy: 0.9961 - precision: 0.9928 - recall: 0.7597\n",
      "Epoch 14/100\n",
      "3624/3624 [==============================] - 12s 3ms/step - loss: 0.0227 - accuracy: 0.9962 - precision: 0.9928 - recall: 0.7614\n",
      "Epoch 15/100\n",
      "3624/3624 [==============================] - 12s 3ms/step - loss: 0.0227 - accuracy: 0.9962 - precision: 0.9936 - recall: 0.7614\n",
      "Epoch 16/100\n",
      "3624/3624 [==============================] - 12s 3ms/step - loss: 0.0228 - accuracy: 0.9962 - precision: 0.9936 - recall: 0.7619\n",
      "Epoch 17/100\n",
      "3624/3624 [==============================] - 12s 3ms/step - loss: 0.0229 - accuracy: 0.9961 - precision: 0.9921 - recall: 0.7603\n",
      "Epoch 18/100\n",
      "3624/3624 [==============================] - 12s 3ms/step - loss: 0.0225 - accuracy: 0.9962 - precision: 0.9936 - recall: 0.7619\n",
      "Epoch 19/100\n",
      "3624/3624 [==============================] - 12s 3ms/step - loss: 0.0227 - accuracy: 0.9962 - precision: 0.9929 - recall: 0.7619\n",
      "Epoch 20/100\n",
      "3624/3624 [==============================] - 12s 3ms/step - loss: 0.0231 - accuracy: 0.9961 - precision: 0.9921 - recall: 0.7608\n",
      "Epoch 21/100\n",
      "3624/3624 [==============================] - 11s 3ms/step - loss: 0.0227 - accuracy: 0.9962 - precision: 0.9928 - recall: 0.7614\n",
      "Epoch 22/100\n",
      "3624/3624 [==============================] - 11s 3ms/step - loss: 0.0226 - accuracy: 0.9962 - precision: 0.9936 - recall: 0.7614\n",
      "Epoch 23/100\n",
      "3624/3624 [==============================] - 12s 3ms/step - loss: 0.0226 - accuracy: 0.9962 - precision: 0.9936 - recall: 0.7608\n",
      "Epoch 24/100\n",
      "3624/3624 [==============================] - 12s 3ms/step - loss: 0.0226 - accuracy: 0.9962 - precision: 0.9928 - recall: 0.7608\n",
      "Epoch 25/100\n",
      "3624/3624 [==============================] - 12s 3ms/step - loss: 0.0224 - accuracy: 0.9962 - precision: 0.9921 - recall: 0.7619\n",
      "Epoch 26/100\n",
      "3624/3624 [==============================] - 12s 3ms/step - loss: 0.0224 - accuracy: 0.9962 - precision: 0.9921 - recall: 0.7614\n",
      "Epoch 27/100\n",
      "3624/3624 [==============================] - 12s 3ms/step - loss: 0.0223 - accuracy: 0.9962 - precision: 0.9929 - recall: 0.7619\n",
      "Epoch 28/100\n",
      "3624/3624 [==============================] - 12s 3ms/step - loss: 0.0225 - accuracy: 0.9962 - precision: 0.9936 - recall: 0.7619\n",
      "Epoch 29/100\n",
      "3624/3624 [==============================] - 12s 3ms/step - loss: 0.0227 - accuracy: 0.9962 - precision: 0.9929 - recall: 0.7619\n",
      "Epoch 30/100\n",
      "3624/3624 [==============================] - 12s 3ms/step - loss: 0.0225 - accuracy: 0.9962 - precision: 0.9935 - recall: 0.7603\n",
      "Epoch 31/100\n",
      "3624/3624 [==============================] - 12s 3ms/step - loss: 0.0227 - accuracy: 0.9961 - precision: 0.9928 - recall: 0.7581\n",
      "Epoch 32/100\n",
      "3624/3624 [==============================] - 12s 3ms/step - loss: 0.0223 - accuracy: 0.9962 - precision: 0.9936 - recall: 0.7608\n",
      "Epoch 33/100\n",
      "3624/3624 [==============================] - 12s 3ms/step - loss: 0.0223 - accuracy: 0.9962 - precision: 0.9936 - recall: 0.7619\n",
      "Epoch 34/100\n",
      "3624/3624 [==============================] - 12s 3ms/step - loss: 0.0224 - accuracy: 0.9962 - precision: 0.9921 - recall: 0.7619\n",
      "Epoch 35/100\n",
      "3624/3624 [==============================] - 12s 3ms/step - loss: 0.0222 - accuracy: 0.9961 - precision: 0.9935 - recall: 0.7597\n",
      "Epoch 36/100\n",
      "3624/3624 [==============================] - 12s 3ms/step - loss: 0.0224 - accuracy: 0.9961 - precision: 0.9914 - recall: 0.7614\n",
      "Epoch 37/100\n",
      "3624/3624 [==============================] - 12s 3ms/step - loss: 0.0225 - accuracy: 0.9962 - precision: 0.9928 - recall: 0.7608\n",
      "Epoch 38/100\n",
      "3624/3624 [==============================] - 12s 3ms/step - loss: 0.0225 - accuracy: 0.9962 - precision: 0.9936 - recall: 0.7619\n",
      "Epoch 39/100\n",
      "3624/3624 [==============================] - 12s 3ms/step - loss: 0.0223 - accuracy: 0.9962 - precision: 0.9935 - recall: 0.7603\n",
      "Epoch 40/100\n",
      "3624/3624 [==============================] - 12s 3ms/step - loss: 0.0223 - accuracy: 0.9962 - precision: 0.9936 - recall: 0.7619\n",
      "Epoch 41/100\n",
      "3624/3624 [==============================] - 12s 3ms/step - loss: 0.0223 - accuracy: 0.9962 - precision: 0.9936 - recall: 0.7619\n",
      "Epoch 42/100\n",
      "3624/3624 [==============================] - 12s 3ms/step - loss: 0.0224 - accuracy: 0.9962 - precision: 0.9928 - recall: 0.7614\n",
      "Epoch 43/100\n",
      "3624/3624 [==============================] - 12s 3ms/step - loss: 0.0222 - accuracy: 0.9962 - precision: 0.9929 - recall: 0.7619\n",
      "Epoch 44/100\n",
      "3624/3624 [==============================] - 12s 3ms/step - loss: 0.0222 - accuracy: 0.9961 - precision: 0.9907 - recall: 0.7614\n",
      "Epoch 45/100\n",
      "3624/3624 [==============================] - 12s 3ms/step - loss: 0.0223 - accuracy: 0.9962 - precision: 0.9928 - recall: 0.7614\n",
      "Epoch 46/100\n",
      "3624/3624 [==============================] - 12s 3ms/step - loss: 0.0225 - accuracy: 0.9962 - precision: 0.9936 - recall: 0.7608\n",
      "Epoch 47/100\n",
      "3624/3624 [==============================] - 12s 3ms/step - loss: 0.0222 - accuracy: 0.9962 - precision: 0.9936 - recall: 0.7619\n",
      "Epoch 48/100\n",
      "3624/3624 [==============================] - 12s 3ms/step - loss: 0.0222 - accuracy: 0.9961 - precision: 0.9928 - recall: 0.7597\n",
      "Epoch 49/100\n",
      "3624/3624 [==============================] - 12s 3ms/step - loss: 0.0222 - accuracy: 0.9962 - precision: 0.9928 - recall: 0.7614\n",
      "Epoch 50/100\n",
      "3624/3624 [==============================] - 12s 3ms/step - loss: 0.0231 - accuracy: 0.9961 - precision: 0.9914 - recall: 0.7614\n",
      "Epoch 51/100\n",
      "3624/3624 [==============================] - 12s 3ms/step - loss: 0.0223 - accuracy: 0.9962 - precision: 0.9929 - recall: 0.7619\n",
      "Epoch 52/100\n",
      "3624/3624 [==============================] - 12s 3ms/step - loss: 0.0222 - accuracy: 0.9962 - precision: 0.9929 - recall: 0.7619\n",
      "Epoch 53/100\n",
      "3624/3624 [==============================] - 11s 3ms/step - loss: 0.0221 - accuracy: 0.9962 - precision: 0.9936 - recall: 0.7619\n",
      "Epoch 54/100\n",
      "3624/3624 [==============================] - 11s 3ms/step - loss: 0.0223 - accuracy: 0.9962 - precision: 0.9936 - recall: 0.7619\n",
      "Epoch 55/100\n",
      "3624/3624 [==============================] - 11s 3ms/step - loss: 0.0222 - accuracy: 0.9962 - precision: 0.9928 - recall: 0.7614\n",
      "Epoch 56/100\n",
      "3624/3624 [==============================] - 11s 3ms/step - loss: 0.0223 - accuracy: 0.9962 - precision: 0.9921 - recall: 0.7619\n",
      "Epoch 57/100\n",
      "3624/3624 [==============================] - 11s 3ms/step - loss: 0.0223 - accuracy: 0.9962 - precision: 0.9936 - recall: 0.7619\n",
      "Epoch 58/100\n",
      "3624/3624 [==============================] - 11s 3ms/step - loss: 0.0224 - accuracy: 0.9962 - precision: 0.9929 - recall: 0.7619\n",
      "Epoch 59/100\n",
      "3624/3624 [==============================] - 11s 3ms/step - loss: 0.0224 - accuracy: 0.9962 - precision: 0.9929 - recall: 0.7619\n",
      "Epoch 60/100\n",
      "3624/3624 [==============================] - 12s 3ms/step - loss: 0.0225 - accuracy: 0.9961 - precision: 0.9914 - recall: 0.7608\n",
      "Epoch 61/100\n",
      "3624/3624 [==============================] - 12s 3ms/step - loss: 0.0220 - accuracy: 0.9962 - precision: 0.9929 - recall: 0.7625\n",
      "Epoch 62/100\n",
      "3624/3624 [==============================] - 11s 3ms/step - loss: 0.0222 - accuracy: 0.9962 - precision: 0.9928 - recall: 0.7614\n",
      "Epoch 63/100\n",
      "3624/3624 [==============================] - 11s 3ms/step - loss: 0.0223 - accuracy: 0.9961 - precision: 0.9900 - recall: 0.7625\n",
      "Epoch 64/100\n",
      "3624/3624 [==============================] - 11s 3ms/step - loss: 0.0224 - accuracy: 0.9962 - precision: 0.9914 - recall: 0.7619\n",
      "Epoch 65/100\n",
      "3624/3624 [==============================] - 11s 3ms/step - loss: 0.0222 - accuracy: 0.9962 - precision: 0.9936 - recall: 0.7619\n",
      "Epoch 66/100\n",
      "3624/3624 [==============================] - 11s 3ms/step - loss: 0.0221 - accuracy: 0.9962 - precision: 0.9922 - recall: 0.7636\n",
      "Epoch 67/100\n",
      "3624/3624 [==============================] - 11s 3ms/step - loss: 0.0226 - accuracy: 0.9961 - precision: 0.9914 - recall: 0.7603\n",
      "Epoch 68/100\n",
      "3624/3624 [==============================] - 11s 3ms/step - loss: 0.0223 - accuracy: 0.9961 - precision: 0.9921 - recall: 0.7603\n",
      "Epoch 69/100\n",
      "3624/3624 [==============================] - 11s 3ms/step - loss: 0.0223 - accuracy: 0.9962 - precision: 0.9914 - recall: 0.7625\n",
      "Epoch 70/100\n",
      "3624/3624 [==============================] - 11s 3ms/step - loss: 0.0223 - accuracy: 0.9962 - precision: 0.9921 - recall: 0.7619\n",
      "Epoch 71/100\n",
      "3624/3624 [==============================] - 11s 3ms/step - loss: 0.0226 - accuracy: 0.9961 - precision: 0.9879 - recall: 0.7614\n",
      "Epoch 72/100\n",
      "3624/3624 [==============================] - 11s 3ms/step - loss: 0.0220 - accuracy: 0.9962 - precision: 0.9936 - recall: 0.7614\n",
      "Epoch 73/100\n",
      "3624/3624 [==============================] - 11s 3ms/step - loss: 0.0227 - accuracy: 0.9961 - precision: 0.9907 - recall: 0.7619\n",
      "Epoch 74/100\n",
      "3624/3624 [==============================] - 11s 3ms/step - loss: 0.0219 - accuracy: 0.9962 - precision: 0.9929 - recall: 0.7625\n",
      "Epoch 75/100\n",
      "3624/3624 [==============================] - 11s 3ms/step - loss: 0.0220 - accuracy: 0.9962 - precision: 0.9929 - recall: 0.7619\n",
      "Epoch 76/100\n",
      "3624/3624 [==============================] - 11s 3ms/step - loss: 0.0223 - accuracy: 0.9962 - precision: 0.9907 - recall: 0.7625\n",
      "Epoch 77/100\n",
      "3624/3624 [==============================] - 11s 3ms/step - loss: 0.0234 - accuracy: 0.9962 - precision: 0.9929 - recall: 0.7630\n",
      "Epoch 78/100\n",
      "3624/3624 [==============================] - 11s 3ms/step - loss: 0.0222 - accuracy: 0.9962 - precision: 0.9921 - recall: 0.7619\n",
      "Epoch 79/100\n",
      "3624/3624 [==============================] - 11s 3ms/step - loss: 0.0222 - accuracy: 0.9962 - precision: 0.9928 - recall: 0.7614\n",
      "Epoch 80/100\n",
      "3624/3624 [==============================] - 11s 3ms/step - loss: 0.0222 - accuracy: 0.9961 - precision: 0.9921 - recall: 0.7597\n",
      "Epoch 81/100\n",
      "3624/3624 [==============================] - 11s 3ms/step - loss: 0.0222 - accuracy: 0.9961 - precision: 0.9921 - recall: 0.7608\n",
      "Epoch 82/100\n",
      "3624/3624 [==============================] - 11s 3ms/step - loss: 0.0221 - accuracy: 0.9962 - precision: 0.9928 - recall: 0.7614\n",
      "Epoch 83/100\n",
      "3624/3624 [==============================] - 11s 3ms/step - loss: 0.0226 - accuracy: 0.9961 - precision: 0.9900 - recall: 0.7614\n",
      "Epoch 84/100\n",
      "3624/3624 [==============================] - 11s 3ms/step - loss: 0.0221 - accuracy: 0.9961 - precision: 0.9914 - recall: 0.7614\n",
      "Epoch 85/100\n",
      "3624/3624 [==============================] - 11s 3ms/step - loss: 0.0249 - accuracy: 0.9961 - precision: 0.9921 - recall: 0.7603\n",
      "Epoch 86/100\n",
      "3624/3624 [==============================] - 11s 3ms/step - loss: 0.0219 - accuracy: 0.9962 - precision: 0.9921 - recall: 0.7625\n",
      "Epoch 87/100\n",
      "3624/3624 [==============================] - 11s 3ms/step - loss: 0.0222 - accuracy: 0.9961 - precision: 0.9907 - recall: 0.7619\n",
      "Epoch 88/100\n",
      "3624/3624 [==============================] - 11s 3ms/step - loss: 0.0220 - accuracy: 0.9962 - precision: 0.9929 - recall: 0.7619\n",
      "Epoch 89/100\n",
      "3624/3624 [==============================] - 11s 3ms/step - loss: 0.0221 - accuracy: 0.9962 - precision: 0.9929 - recall: 0.7619\n",
      "Epoch 90/100\n",
      "3624/3624 [==============================] - 11s 3ms/step - loss: 0.0219 - accuracy: 0.9962 - precision: 0.9900 - recall: 0.7641\n",
      "Epoch 91/100\n",
      "3624/3624 [==============================] - 11s 3ms/step - loss: 0.0224 - accuracy: 0.9961 - precision: 0.9907 - recall: 0.7608\n",
      "Epoch 92/100\n",
      "3624/3624 [==============================] - 11s 3ms/step - loss: 0.0220 - accuracy: 0.9962 - precision: 0.9914 - recall: 0.7625\n",
      "Epoch 93/100\n",
      "3624/3624 [==============================] - 11s 3ms/step - loss: 0.0222 - accuracy: 0.9961 - precision: 0.9907 - recall: 0.7603\n",
      "Epoch 94/100\n",
      "3624/3624 [==============================] - 11s 3ms/step - loss: 0.0223 - accuracy: 0.9962 - precision: 0.9880 - recall: 0.7647\n",
      "Epoch 95/100\n",
      "3624/3624 [==============================] - 11s 3ms/step - loss: 0.0222 - accuracy: 0.9962 - precision: 0.9900 - recall: 0.7641\n",
      "Epoch 96/100\n",
      "3624/3624 [==============================] - 11s 3ms/step - loss: 0.0223 - accuracy: 0.9961 - precision: 0.9893 - recall: 0.7619\n",
      "Epoch 97/100\n",
      "3624/3624 [==============================] - 11s 3ms/step - loss: 0.0218 - accuracy: 0.9962 - precision: 0.9921 - recall: 0.7619\n",
      "Epoch 98/100\n",
      "3624/3624 [==============================] - 11s 3ms/step - loss: 0.0220 - accuracy: 0.9962 - precision: 0.9936 - recall: 0.7608\n",
      "Epoch 99/100\n",
      "3624/3624 [==============================] - 11s 3ms/step - loss: 0.0220 - accuracy: 0.9962 - precision: 0.9929 - recall: 0.7630\n",
      "Epoch 100/100\n",
      "3624/3624 [==============================] - 11s 3ms/step - loss: 0.0221 - accuracy: 0.9962 - precision: 0.9929 - recall: 0.7630\n"
     ]
    }
   ],
   "source": [
    "history = model.fit(X_train_scaled, y_train, epochs=100)"
   ]
  },
  {
   "cell_type": "code",
   "execution_count": 11,
   "id": "45398ec7",
   "metadata": {
    "execution": {
     "iopub.execute_input": "2023-08-21T08:22:25.878816Z",
     "iopub.status.busy": "2023-08-21T08:22:25.878378Z",
     "iopub.status.idle": "2023-08-21T08:22:26.366609Z",
     "shell.execute_reply": "2023-08-21T08:22:26.365694Z"
    },
    "papermill": {
     "duration": 2.638459,
     "end_time": "2023-08-21T08:22:26.369025",
     "exception": false,
     "start_time": "2023-08-21T08:22:23.730566",
     "status": "completed"
    },
    "tags": []
   },
   "outputs": [
    {
     "data": {
      "text/plain": [
       "<matplotlib.legend.Legend at 0x7ff94591c220>"
      ]
     },
     "execution_count": 11,
     "metadata": {},
     "output_type": "execute_result"
    },
    {
     "data": {
      "image/png": "[encoded data removed]",
      "text/plain": [
       "<Figure size 1800x800 with 1 Axes>"
      ]
     },
     "metadata": {},
     "output_type": "display_data"
    }
   ],
   "source": [
    "import matplotlib.pyplot as plt\n",
    "from matplotlib import rcParams\n",
    "rcParams['figure.figsize'] = (18, 8)\n",
    "rcParams['axes.spines.top'] = False\n",
    "rcParams['axes.spines.right'] = False\n",
    "plt.plot(\n",
    "    np.arange(1, 101), \n",
    "    history.history['loss'], label='Loss'\n",
    ")\n",
    "plt.plot(\n",
    "    np.arange(1, 101), \n",
    "    history.history['accuracy'], label='Accuracy'\n",
    ")\n",
    "plt.plot(\n",
    "    np.arange(1, 101), \n",
    "    history.history['precision'], label='Precision'\n",
    ")\n",
    "plt.plot(\n",
    "    np.arange(1, 101), \n",
    "    history.history['recall'], label='Recall'\n",
    ")\n",
    "plt.title('Evaluation metrics', size=20)\n",
    "plt.xlabel('Epoch', size=14)\n",
    "plt.legend()"
   ]
  },
  {
   "cell_type": "code",
   "execution_count": 12,
   "id": "8b1d2c43",
   "metadata": {
    "execution": {
     "iopub.execute_input": "2023-08-21T08:22:30.725641Z",
     "iopub.status.busy": "2023-08-21T08:22:30.725027Z",
     "iopub.status.idle": "2023-08-21T08:22:32.113514Z",
     "shell.execute_reply": "2023-08-21T08:22:32.112359Z"
    },
    "papermill": {
     "duration": 3.551142,
     "end_time": "2023-08-21T08:22:32.115998",
     "exception": false,
     "start_time": "2023-08-21T08:22:28.564856",
     "status": "completed"
    },
    "tags": []
   },
   "outputs": [
    {
     "name": "stdout",
     "output_type": "stream",
     "text": [
      "640/640 [==============================] - 1s 1ms/step\n"
     ]
    },
    {
     "data": {
      "text/plain": [
       "array([[0.00404321],\n",
       "       [0.0012473 ],\n",
       "       [0.00106601],\n",
       "       ...,\n",
       "       [0.00733512],\n",
       "       [0.00090174],\n",
       "       [0.00113501]], dtype=float32)"
      ]
     },
     "execution_count": 12,
     "metadata": {},
     "output_type": "execute_result"
    }
   ],
   "source": [
    "predictions = model.predict(X_test_scaled)\n",
    "predictions"
   ]
  },
  {
   "cell_type": "code",
   "execution_count": 13,
   "id": "a3cf658d",
   "metadata": {
    "execution": {
     "iopub.execute_input": "2023-08-21T08:22:36.462888Z",
     "iopub.status.busy": "2023-08-21T08:22:36.462420Z",
     "iopub.status.idle": "2023-08-21T08:22:36.878048Z",
     "shell.execute_reply": "2023-08-21T08:22:36.876936Z"
    },
    "papermill": {
     "duration": 2.595745,
     "end_time": "2023-08-21T08:22:36.881580",
     "exception": false,
     "start_time": "2023-08-21T08:22:34.285835",
     "status": "completed"
    },
    "tags": []
   },
   "outputs": [
    {
     "name": "stdout",
     "output_type": "stream",
     "text": [
      "ROC_AUC Score :  0.9445535864334276\n",
      "Function for ROC_AUC Score :  0.9445535864334276\n",
      "Threshold value is: 0.017246729\n"
     ]
    },
    {
     "data": {
      "image/png": "[encoded data removed]",
      "text/plain": [
       "<Figure size 1800x800 with 1 Axes>"
      ]
     },
     "metadata": {},
     "output_type": "display_data"
    }
   ],
   "source": [
    "from sklearn.metrics import roc_curve\n",
    "from sklearn.metrics import auc\n",
    "from sklearn.metrics import roc_auc_score\n",
    "def plot_roc_curve(fpr, tpr):\n",
    "    plt.plot(fpr, tpr, color='orange', label='ROC')\n",
    "    plt.plot([0, 1], [0, 1], color='darkblue', linestyle='--')\n",
    "    plt.xlabel('False Positive Rate')\n",
    "    plt.ylabel('True Positive Rate')\n",
    "    plt.title('Receiver Operating Characteristic (ROC) Curve')\n",
    "    plt.legend()\n",
    "    plt.show()\n",
    "# Computing manually fpr, tpr, thresholds and roc auc \n",
    "fpr, tpr, thresholds = roc_curve(y_test, predictions)\n",
    "roc_auc = auc(fpr, tpr)\n",
    "print(\"ROC_AUC Score : \",roc_auc)\n",
    "print(\"Function for ROC_AUC Score : \",roc_auc_score(y_test, predictions)) # Function present\n",
    "optimal_idx = np.argmax(tpr - fpr)\n",
    "optimal_threshold = thresholds[optimal_idx]\n",
    "print(\"Threshold value is:\", optimal_threshold)\n",
    "plot_roc_curve(fpr, tpr)"
   ]
  },
  {
   "cell_type": "code",
   "execution_count": 14,
   "id": "2ca4c5bd",
   "metadata": {
    "execution": {
     "iopub.execute_input": "2023-08-21T08:22:41.119213Z",
     "iopub.status.busy": "2023-08-21T08:22:41.118458Z",
     "iopub.status.idle": "2023-08-21T08:22:41.127705Z",
     "shell.execute_reply": "2023-08-21T08:22:41.126815Z"
    },
    "papermill": {
     "duration": 2.08718,
     "end_time": "2023-08-21T08:22:41.129858",
     "exception": false,
     "start_time": "2023-08-21T08:22:39.042678",
     "status": "completed"
    },
    "tags": []
   },
   "outputs": [],
   "source": [
    "prediction_classes = [\n",
    "    1 if prob > optimal_threshold else 0 for prob in np.ravel(predictions)\n",
    "]\n"
   ]
  },
  {
   "cell_type": "code",
   "execution_count": 15,
   "id": "ff58dd5c",
   "metadata": {
    "execution": {
     "iopub.execute_input": "2023-08-21T08:22:45.474161Z",
     "iopub.status.busy": "2023-08-21T08:22:45.473346Z",
     "iopub.status.idle": "2023-08-21T08:22:45.481029Z",
     "shell.execute_reply": "2023-08-21T08:22:45.479527Z"
    },
    "papermill": {
     "duration": 2.176805,
     "end_time": "2023-08-21T08:22:45.483564",
     "exception": false,
     "start_time": "2023-08-21T08:22:43.306759",
     "status": "completed"
    },
    "tags": []
   },
   "outputs": [
    {
     "data": {
      "text/plain": [
       "[0, 0, 0, 0, 0, 0, 0, 0, 0, 0, 0, 0, 0, 0, 0, 0, 0, 0, 0, 0]"
      ]
     },
     "execution_count": 15,
     "metadata": {},
     "output_type": "execute_result"
    }
   ],
   "source": [
    "prediction_classes[:20]"
   ]
  },
  {
   "cell_type": "code",
   "execution_count": 16,
   "id": "0bc431c9",
   "metadata": {
    "execution": {
     "iopub.execute_input": "2023-08-21T08:22:49.801948Z",
     "iopub.status.busy": "2023-08-21T08:22:49.800944Z",
     "iopub.status.idle": "2023-08-21T08:22:49.824602Z",
     "shell.execute_reply": "2023-08-21T08:22:49.823159Z"
    },
    "papermill": {
     "duration": 2.184818,
     "end_time": "2023-08-21T08:22:49.827081",
     "exception": false,
     "start_time": "2023-08-21T08:22:47.642263",
     "status": "completed"
    },
    "tags": []
   },
   "outputs": [
    {
     "name": "stdout",
     "output_type": "stream",
     "text": [
      "[[19708   432]\n",
      " [   50   275]]\n"
     ]
    }
   ],
   "source": [
    "from sklearn.metrics import confusion_matrix\n",
    "print(confusion_matrix(y_test, prediction_classes))"
   ]
  },
  {
   "cell_type": "code",
   "execution_count": 17,
   "id": "7fa6b373",
   "metadata": {
    "execution": {
     "iopub.execute_input": "2023-08-21T08:22:54.072473Z",
     "iopub.status.busy": "2023-08-21T08:22:54.071987Z",
     "iopub.status.idle": "2023-08-21T08:22:54.159796Z",
     "shell.execute_reply": "2023-08-21T08:22:54.158395Z"
    },
    "papermill": {
     "duration": 2.242962,
     "end_time": "2023-08-21T08:22:54.162599",
     "exception": false,
     "start_time": "2023-08-21T08:22:51.919637",
     "status": "completed"
    },
    "tags": []
   },
   "outputs": [
    {
     "name": "stdout",
     "output_type": "stream",
     "text": [
      "Accuracy: 0.98\n",
      "Precision: 0.39\n",
      "Recall: 0.85\n"
     ]
    }
   ],
   "source": [
    "from sklearn.metrics import accuracy_score, precision_score, recall_score\n",
    "print(f'Accuracy: {accuracy_score(y_test, prediction_classes):.2f}')\n",
    "print(f'Precision: {precision_score(y_test, prediction_classes):.2f}')\n",
    "print(f'Recall: {recall_score(y_test, prediction_classes):.2f}')"
   ]
  },
  {
   "cell_type": "code",
   "execution_count": 18,
   "id": "449ca15b",
   "metadata": {
    "execution": {
     "iopub.execute_input": "2023-08-21T08:22:58.542757Z",
     "iopub.status.busy": "2023-08-21T08:22:58.542362Z",
     "iopub.status.idle": "2023-08-21T08:22:58.557332Z",
     "shell.execute_reply": "2023-08-21T08:22:58.556516Z"
    },
    "papermill": {
     "duration": 2.233421,
     "end_time": "2023-08-21T08:22:58.559400",
     "exception": false,
     "start_time": "2023-08-21T08:22:56.325979",
     "status": "completed"
    },
    "tags": []
   },
   "outputs": [],
   "source": [
    "sub2 = pd.DataFrame(prediction_classes)"
   ]
  },
  {
   "cell_type": "code",
   "execution_count": 19,
   "id": "249fbb58",
   "metadata": {
    "execution": {
     "iopub.execute_input": "2023-08-21T08:23:02.886655Z",
     "iopub.status.busy": "2023-08-21T08:23:02.885834Z",
     "iopub.status.idle": "2023-08-21T08:23:02.892005Z",
     "shell.execute_reply": "2023-08-21T08:23:02.891186Z"
    },
    "papermill": {
     "duration": 2.185157,
     "end_time": "2023-08-21T08:23:02.894290",
     "exception": false,
     "start_time": "2023-08-21T08:23:00.709133",
     "status": "completed"
    },
    "tags": []
   },
   "outputs": [
    {
     "data": {
      "text/plain": [
       "20465"
      ]
     },
     "execution_count": 19,
     "metadata": {},
     "output_type": "execute_result"
    }
   ],
   "source": [
    "len(sub2)"
   ]
  },
  {
   "cell_type": "code",
   "execution_count": 20,
   "id": "0521064b",
   "metadata": {
    "execution": {
     "iopub.execute_input": "2023-08-21T08:23:07.203138Z",
     "iopub.status.busy": "2023-08-21T08:23:07.202734Z",
     "iopub.status.idle": "2023-08-21T08:23:07.261571Z",
     "shell.execute_reply": "2023-08-21T08:23:07.260387Z"
    },
    "papermill": {
     "duration": 2.209099,
     "end_time": "2023-08-21T08:23:07.264551",
     "exception": false,
     "start_time": "2023-08-21T08:23:05.055452",
     "status": "completed"
    },
    "tags": []
   },
   "outputs": [],
   "source": [
    "sub2.to_csv('/kaggle/working/sub2.csv')"
   ]
  },
  {
   "cell_type": "code",
   "execution_count": 21,
   "id": "26087ebd",
   "metadata": {
    "execution": {
     "iopub.execute_input": "2023-08-21T08:23:11.484669Z",
     "iopub.status.busy": "2023-08-21T08:23:11.483971Z",
     "iopub.status.idle": "2023-08-21T08:23:16.801909Z",
     "shell.execute_reply": "2023-08-21T08:23:16.800720Z"
    },
    "papermill": {
     "duration": 7.383237,
     "end_time": "2023-08-21T08:23:16.804520",
     "exception": false,
     "start_time": "2023-08-21T08:23:09.421283",
     "status": "completed"
    },
    "tags": []
   },
   "outputs": [
    {
     "name": "stdout",
     "output_type": "stream",
     "text": [
      "2843/2843 [==============================] - 4s 1ms/step\n"
     ]
    }
   ],
   "source": [
    "#### PRedictions 2\n",
    "\n",
    "pred2 = model.predict(X_test_scaled_actual)"
   ]
  },
  {
   "cell_type": "code",
   "execution_count": 22,
   "id": "29723bde",
   "metadata": {
    "execution": {
     "iopub.execute_input": "2023-08-21T08:23:21.145264Z",
     "iopub.status.busy": "2023-08-21T08:23:21.144864Z",
     "iopub.status.idle": "2023-08-21T08:23:21.152171Z",
     "shell.execute_reply": "2023-08-21T08:23:21.151033Z"
    },
    "papermill": {
     "duration": 2.185353,
     "end_time": "2023-08-21T08:23:21.154492",
     "exception": false,
     "start_time": "2023-08-21T08:23:18.969139",
     "status": "completed"
    },
    "tags": []
   },
   "outputs": [
    {
     "data": {
      "text/plain": [
       "array([[0.0020853 ],\n",
       "       [0.00077217],\n",
       "       [0.00080673],\n",
       "       ...,\n",
       "       [0.00267908],\n",
       "       [0.0012473 ],\n",
       "       [0.00088435]], dtype=float32)"
      ]
     },
     "execution_count": 22,
     "metadata": {},
     "output_type": "execute_result"
    }
   ],
   "source": [
    "pred2"
   ]
  },
  {
   "cell_type": "code",
   "execution_count": 23,
   "id": "270e69d2",
   "metadata": {
    "execution": {
     "iopub.execute_input": "2023-08-21T08:23:25.522889Z",
     "iopub.status.busy": "2023-08-21T08:23:25.522053Z",
     "iopub.status.idle": "2023-08-21T08:23:25.919085Z",
     "shell.execute_reply": "2023-08-21T08:23:25.917888Z"
    },
    "papermill": {
     "duration": 2.57029,
     "end_time": "2023-08-21T08:23:25.921347",
     "exception": false,
     "start_time": "2023-08-21T08:23:23.351057",
     "status": "completed"
    },
    "tags": []
   },
   "outputs": [
    {
     "name": "stdout",
     "output_type": "stream",
     "text": [
      "ROC_AUC Score :  0.9445535864334276\n",
      "Threshold value is: 0.017246729\n"
     ]
    },
    {
     "data": {
      "image/png": "[encoded data removed]",
      "text/plain": [
       "<Figure size 1800x800 with 1 Axes>"
      ]
     },
     "metadata": {},
     "output_type": "display_data"
    }
   ],
   "source": [
    "from sklearn.metrics import roc_curve\n",
    "from sklearn.metrics import auc\n",
    "from sklearn.metrics import roc_auc_score\n",
    "def plot_roc_curve(fpr, tpr):\n",
    "    plt.plot(fpr, tpr, color='orange', label='ROC')\n",
    "    plt.plot([0, 1], [0, 1], color='darkblue', linestyle='--')\n",
    "    plt.xlabel('False Positive Rate')\n",
    "    plt.ylabel('True Positive Rate')\n",
    "    plt.title('Receiver Operating Characteristic (ROC) Curve')\n",
    "    plt.legend()\n",
    "    plt.show()\n",
    "# Computing manually fpr, tpr, thresholds and roc auc \n",
    "fpr, tpr, thresholds = roc_curve(y_test, predictions)\n",
    "roc_auc = auc(fpr, tpr)\n",
    "print(\"ROC_AUC Score : \",roc_auc)\n",
    "#print(\"Function for ROC_AUC Score : \",roc_auc_score(y_test, pred2)) # Function present\n",
    "optimal_idx = np.argmax(tpr - fpr)\n",
    "optimal_threshold = thresholds[optimal_idx]\n",
    "print(\"Threshold value is:\", optimal_threshold)\n",
    "plot_roc_curve(fpr, tpr)"
   ]
  },
  {
   "cell_type": "code",
   "execution_count": 24,
   "id": "9ef255f2",
   "metadata": {
    "execution": {
     "iopub.execute_input": "2023-08-21T08:23:30.307882Z",
     "iopub.status.busy": "2023-08-21T08:23:30.307017Z",
     "iopub.status.idle": "2023-08-21T08:23:30.332584Z",
     "shell.execute_reply": "2023-08-21T08:23:30.331479Z"
    },
    "papermill": {
     "duration": 2.227914,
     "end_time": "2023-08-21T08:23:30.335229",
     "exception": false,
     "start_time": "2023-08-21T08:23:28.107315",
     "status": "completed"
    },
    "tags": []
   },
   "outputs": [],
   "source": [
    "prediction_classes2 = [\n",
    "    1 if prob > optimal_threshold else 0 for prob in np.ravel(pred2)\n",
    "]"
   ]
  },
  {
   "cell_type": "code",
   "execution_count": 25,
   "id": "f0c891a5",
   "metadata": {
    "execution": {
     "iopub.execute_input": "2023-08-21T08:23:34.624389Z",
     "iopub.status.busy": "2023-08-21T08:23:34.623736Z",
     "iopub.status.idle": "2023-08-21T08:23:34.899926Z",
     "shell.execute_reply": "2023-08-21T08:23:34.898569Z"
    },
    "papermill": {
     "duration": 2.370922,
     "end_time": "2023-08-21T08:23:34.902717",
     "exception": false,
     "start_time": "2023-08-21T08:23:32.531795",
     "status": "completed"
    },
    "tags": []
   },
   "outputs": [],
   "source": [
    "sub3 = pd.DataFrame(prediction_classes2)\n",
    "sub3.to_csv('/kaggle/working/sub3.csv')"
   ]
  },
  {
   "cell_type": "code",
   "execution_count": null,
   "id": "ea78693b",
   "metadata": {
    "papermill": {
     "duration": 2.167914,
     "end_time": "2023-08-21T08:23:39.235537",
     "exception": false,
     "start_time": "2023-08-21T08:23:37.067623",
     "status": "completed"
    },
    "tags": []
   },
   "outputs": [],
   "source": []
  }
 ],
 "metadata": {
  "kernelspec": {
   "display_name": "Python 3",
   "language": "python",
   "name": "python3"
  },
  "language_info": {
   "codemirror_mode": {
    "name": "ipython",
    "version": 3
   },
   "file_extension": ".py",
   "mimetype": "text/x-python",
   "name": "python",
   "nbconvert_exporter": "python",
   "pygments_lexer": "ipython3",
   "version": "3.10.12"
  },
  "papermill": {
   "default_parameters": {},
   "duration": 1270.922479,
   "end_time": "2023-08-21T08:23:43.901959",
   "environment_variables": {},
   "exception": null,
   "input_path": "__notebook__.ipynb",
   "output_path": "__notebook__.ipynb",
   "parameters": {},
   "start_time": "2023-08-21T08:02:32.979480",
   "version": "2.4.0"
  }
 },
 "nbformat": 4,
 "nbformat_minor": 5
}
